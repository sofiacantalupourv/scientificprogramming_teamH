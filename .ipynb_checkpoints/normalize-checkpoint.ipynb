{
 "cells": [
  {
   "cell_type": "code",
   "execution_count": null,
   "id": "0a2f8fd9-d4ba-43a1-b3e0-c9cf8687cf5b",
   "metadata": {},
   "outputs": [],
   "source": [
    "def normalize(df, op):\n",
    "    # Identify numerical and categorical columns\n",
    "    numeric_cols = df.select_dtypes(include='number').columns\n",
    "\n",
    "    # Make a copy of the original DataFrame to avoid modifying it directly\n",
    "    norm_df = df.copy()\n",
    "\n",
    "    # Normalize numerical columns based on the selected option\n",
    "    if op == 0:  # Z-score normalization\n",
    "        scaler = StandardScaler()\n",
    "        norm_df[numeric_cols] = scaler.fit_transform(norm_df[numeric_cols])\n",
    "    elif op == 1:  # Min-Max normalization\n",
    "        scaler = MinMaxScaler()\n",
    "        norm_df[numeric_cols] = scaler.fit_transform(norm_df[numeric_cols])\n",
    "\n",
    "    return norm_df"
   ]
  }
 ],
 "metadata": {
  "kernelspec": {
   "display_name": "Python 3 (ipykernel)",
   "language": "python",
   "name": "python3"
  },
  "language_info": {
   "codemirror_mode": {
    "name": "ipython",
    "version": 3
   },
   "file_extension": ".py",
   "mimetype": "text/x-python",
   "name": "python",
   "nbconvert_exporter": "python",
   "pygments_lexer": "ipython3",
   "version": "3.8.18"
  }
 },
 "nbformat": 4,
 "nbformat_minor": 5
}
