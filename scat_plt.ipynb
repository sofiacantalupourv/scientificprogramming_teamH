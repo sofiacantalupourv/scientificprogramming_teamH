{
 "cells": [
  {
   "cell_type": "code",
   "execution_count": null,
   "id": "c10846b5-4ff2-4176-9c29-a8f96e3c8fff",
   "metadata": {},
   "outputs": [],
   "source": [
    "import pandas as pd\n",
    "import seaborn as sns\n",
    "from matplotlib import pyplot as plt\n",
    "\n",
    "def scat_plt(var1, var2, groups):\n",
    "    # Create a DataFrame\n",
    "    data = {'var1': var1, 'var2': var2, 'groups': groups}\n",
    "    df = pd.DataFrame(data)\n",
    "\n",
    "    # Use seaborn to create scatter plot with different colors for each group\n",
    "    sns.scatterplot(x='var1', y='var2', hue='groups', data=df, palette='rainbow')\n",
    "\n",
    "    # Set labels and legend\n",
    "    plt.xlabel('Variable 1')\n",
    "    plt.ylabel('Variable 2')\n",
    "    plt.legend(title='Groups')\n",
    "    plt.show()"
   ]
  }
 ],
 "metadata": {
  "kernelspec": {
   "display_name": "Python 3 (ipykernel)",
   "language": "python",
   "name": "python3"
  },
  "language_info": {
   "codemirror_mode": {
    "name": "ipython",
    "version": 3
   },
   "file_extension": ".py",
   "mimetype": "text/x-python",
   "name": "python",
   "nbconvert_exporter": "python",
   "pygments_lexer": "ipython3",
   "version": "3.11.5"
  }
 },
 "nbformat": 4,
 "nbformat_minor": 5
}
