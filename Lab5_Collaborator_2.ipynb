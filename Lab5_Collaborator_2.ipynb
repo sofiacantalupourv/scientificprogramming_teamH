{
 "cells": [
  {
   "cell_type": "markdown",
   "id": "752855a5-bff6-48bd-9326-6daf779dc10c",
   "metadata": {},
   "source": [
    "## Collaborator 2"
   ]
  },
  {
   "cell_type": "markdown",
   "id": "0b7c5ca5-583a-4716-b16e-e78a4e2d8dc7",
   "metadata": {},
   "source": [
    "### Function scat_plt (var1, var2, groups)\n",
    "\n",
    "Given the variables var1 and var2, creates a scatterplot of the two variables, displaying the information given on groups using different colors(or symbols). That is, observations belonging to a given group 1 will be displayed on a given color, observations belonging to group 2 will be displayed with a different color and so on. var1 is displayed in the xaxis and var2 in the y-axis. The obtained plot should contain a legend displaying the information regarding to groups\n",
    "\n",
    "- Inputs:\n",
    "var1 and var2: Two given variables of the same length\n",
    "groups: A variable the same size as var1 and var2 where the information regarding to group belonging is contained."
   ]
  },
  {
   "cell_type": "code",
   "execution_count": 19,
   "id": "7861fbc8-0576-4163-aa28-907f75f2def6",
   "metadata": {
    "tags": []
   },
   "outputs": [],
   "source": [
    "import pandas as pd\n",
    "import matplotlib.pyplot as plt\n",
    "from sklearn.preprocessing import StandardScaler, MinMaxScaler\n",
    "\n",
    "import seaborn as sns\n",
    "import matplotlib.pyplot as plt\n",
    "\n",
    "def scat_plt(var1, var2, groups):\n",
    "    # Create a DataFrame\n",
    "    data = {'var1': var1, 'var2': var2, 'groups': groups}\n",
    "    df = pd.DataFrame(data)\n",
    "\n",
    "    # Use seaborn to create scatter plot with different colors for each group\n",
    "    sns.scatterplot(x='var1', y='var2', hue='groups', data=df, palette='rainbow')\n",
    "\n",
    "    # Set labels and legend\n",
    "    plt.xlabel('Variable 1')\n",
    "    plt.ylabel('Variable 2')\n",
    "    plt.legend(title='Groups')\n",
    "    plt.show()"
   ]
  }
 ],
 "metadata": {
  "kernelspec": {
   "display_name": "Python 3 (ipykernel)",
   "language": "python",
   "name": "python3"
  },
  "language_info": {
   "codemirror_mode": {
    "name": "ipython",
    "version": 3
   },
   "file_extension": ".py",
   "mimetype": "text/x-python",
   "name": "python",
   "nbconvert_exporter": "python",
   "pygments_lexer": "ipython3",
   "version": "3.8.18"
  }
 },
 "nbformat": 4,
 "nbformat_minor": 5
}
