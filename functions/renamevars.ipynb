{
 "cells": [
  {
   "cell_type": "code",
   "execution_count": 1,
   "id": "c63bb5f0",
   "metadata": {},
   "outputs": [],
   "source": [
    "def renamevars(df, dict_names):\n",
    "    \n",
    "    # copy of the original df\n",
    "    renamed_df = df.copy()\n",
    "    \n",
    "    # renamed_df.columns = [dict_names[col] if col in dict_names else col in renamed_df.columns]\n",
    "    renamed_df.columns = [dict_names[col] if col in dict_names else col for col in renamed_df.columns]\n",
    "\n",
    "    return renamed_df\n"
   ]
  }
 ],
 "metadata": {
  "kernelspec": {
   "display_name": "Python 3 (ipykernel)",
   "language": "python",
   "name": "python3"
  },
  "language_info": {
   "codemirror_mode": {
    "name": "ipython",
    "version": 3
   },
   "file_extension": ".py",
   "mimetype": "text/x-python",
   "name": "python",
   "nbconvert_exporter": "python",
   "pygments_lexer": "ipython3",
   "version": "3.11.5"
  }
 },
 "nbformat": 4,
 "nbformat_minor": 5
}
